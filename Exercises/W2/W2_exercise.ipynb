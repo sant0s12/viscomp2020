{
 "cells": [
  {
   "cell_type": "markdown",
   "metadata": {},
   "source": [
    "# Week 2: Background subtraction\n",
    "\n",
    "This python notebook includes all the exercises from this session. All the needed setup, I/O and user-interaction code is already provided to let you concentrate on this week's topic.<br>\n",
    "Please run all the provided code in order before running yours.<br>\n",
    "\n",
    "\n",
    "## 1. Bluescreen\n",
    "### 1.A Single pixel model\n",
    "Extract foreground objects in bluescreen movie footage. The blue background color should be specified by a single color value [r, g, b]. You may obtain such a value by using the provided notebook widget to select one or more blue pixels on the first frame of the footage. To determine whether a given pixel should be foreground or background, threshold the absolute distance of its value to the reference value, i.e.\n",
    "\n",
    "$$\\left\\lVert[r, g, b] - [r_0, g_0, b_0]\\right\\rVert < t$$\n",
    "\n",
    "Based on pixelwise decisions, a mask can be created to specify foreground and background.<br>\n",
    "Try different values for the threshold and the reference color. To test your results, you can use the short video provided. Note that not the whole background consists of bluescreen.\n",
    "To overcome this problem, you can use the precomputed mask provided into the variable `mask`.\n",
    "\n",
    "### 1.B Exemplar set model\n",
    "To further improve the results, specify the blue background by an exemplar set of blue background pixels. You may select this set using the same widget as in the previous point. After computing mean $\\mu$ and covariance matrix $\\Sigma$ of the pixel values, the Mahalanobis distance $M(x, \\mu, \\Sigma)$ can be used to decide whether a color value $x$ originated from the background or the foreground.\n",
    "\n",
    "$$M(x, \\mu, \\Sigma) = \\sqrt{(x-\\mu)^T\\Sigma^{-1}(x-\\mu)}$$\n",
    "\n",
    "## 2. Per-pixel Model\n",
    "Probably you have noticed that the approach in the previous task failed in the upper region of the background, which was not covered with blue sheets, for which we provided the `mask`. To handle more complex scenarios, extend the background model to a per-pixel model. For each pixel, compute the mean and the covariance of its values over a number of frames which do not contain foreground objects. You may then use the Mahalanobis distance to classify pixels in sequences containing foreground objects. You can use the same threshold for all pixels.<br>\n",
    "To create the model, use jugglingBG.avi. This scene was captured for several frames without foreground objects. Based on the background model, foreground pixels can then be identified and masks can be created for jugglingTest.avi."
   ]
  },
  {
   "cell_type": "markdown",
   "metadata": {},
   "source": [
    "## Useful information for this tutorial:\n",
    "\n",
    "Images are represented as numpy arrays, which are fixed-dimensional arrays. Videos are represented as arrays of images.<br>\n",
    "In this tutorial each pixel takes a RGB value within the range [0-255] and is represented as a 16-bit signed integer, to allow signed operations without subtle overflow bugs.\n",
    "\n",
    "you will need to visualize your results, thus to printout an image use:\n",
    "\n",
    "`imshow(image)`\n",
    "\n",
    "You can read pixel values inside an image by accessing the corresponding pixel coordinates in the array. The following reads the green component (1) of pixel at location (10, 20) of the 5th frame (index 4):\n",
    "\n",
    "`g = vid[4, 10, 20, 1]`\n",
    "\n",
    "Of course you can also change pixel values in the same way. We recommend copying an image before editing. To copy an image:\n",
    "\n",
    "`im_copy = np.array(im)` (`np` is the short name for `numpy` which is recognized by python when importing numpy with `import numpy as np`)\n",
    "\n",
    "With numpy it is also possible to refer to slices of a given array by specifying the kept dimensions in the slice with `:`. For example, if we want to access the red channel of an RGB image `im` with shape `(height, width, 3)`, we can write `im[:, :, 0]`, which refers to the whole image data for the red channel only. We can optionally specify a range to be kept along a direction by writing the extreme indices around the `:` as in `min:max`. For example, accessing a patch within the pixel coordinates `(h0, w0)`, `(h1, w1)` with h0 < h1 and w0 < w1 can be done with `im[h0:h1, w0:w1, :]`.<br>\n",
    "You can also index arrays based on conditions: for example to set to black all pixels with a blue component higher than 200 you can write `im[im[:, :, 2] > 200] = 0`.<br>\n",
    "These references can be used both for reading an image slice and for writing a whole slice at once, without looping over it.\n",
    "\n",
    "When doing operations between numpy arrays, all operations are executed element-wise (except for the `@` operator that performs the usual matrix multiplication). This requires the shapes (dimensions) of the involved arrays to match or to be compatible according to broadcasting rules, which are usually intuitive. An example of broadcasting is when adding a pixel value `p=np.array([70, 128, 255])` to an image `im` with shape `(height, width, 3)`: the operation is legal and the pixel value is added independently to each pixel in the image. A complete reference of numpy broadcasting rules (not necessary for this tutorial, but very useful for numpy python programming) can be found in https://docs.scipy.org/doc/numpy/user/basics.broadcasting.html . \n",
    "\n",
    "In the following we list some useful functions:\n",
    "\n",
    "`np.array(a)`: returns a copy of `a` as a numpy array. Argument `a` does not need to be a numpy array, it can be any array-like object, e.g. a python list. https://docs.scipy.org/doc/numpy/reference/generated/numpy.array.html<br>\n",
    "`np.empty(shape, dtype)`: returns a new empty array with specified shape `shape` and the specified data type `dtype`. For this tutorial we suggest using as dtype `np.int16` for images and default for the rest. https://docs.scipy.org/doc/numpy/reference/generated/numpy.empty.html<br>\n",
    "`np.ones(shape, dtype)`: returns a new array filled with ones with specified shape `shape` and the specified data type `dtype`. For this tutorial we suggest using as dtype `np.int16` for images and default for the rest. https://docs.scipy.org/doc/numpy/reference/generated/numpy.ones.html<br>\n",
    "`np.zeros(shape, dtype)`: returns a new array filled with zeros with specified shape `shape` and the specified data type `dtype`. For this tutorial we suggest using as dtype `np.int16` for images and default for the rest. https://docs.scipy.org/doc/numpy/reference/generated/numpy.zeros.html<br>\n",
    "`np.eye(N)` : builds the identity matrix of order `N`. https://docs.scipy.org/doc/numpy/reference/generated/numpy.eye.html<br>\n",
    "`np.reshape(a, newshape)`: returns a reshaped view of the input array `a` having shape `newshape`, which should be specified as a tuple of integers. https://docs.scipy.org/doc/numpy/reference/generated/numpy.reshape.html<br>\n",
    "`np.linalg.norm(x)`: returns the L2 norm of array `x`. You can also specify a keyword argument `axis` to compute the norm only along a specific dimension (the result will have the same shape as `x`, but without the specified dimension) https://docs.scipy.org/doc/numpy/reference/generated/numpy.linalg.norm.html<br>\n",
    "`np.transpose(a)` : returns the transposed of array `a`, whose shape has reversed order with respect to `a`. Alias `a.T`. https://docs.scipy.org/doc/numpy/reference/generated/numpy.transpose.html<br>\n",
    "`np.linalg.inv(a)` : returns the multiplicative inverse of matrix `a`. https://docs.scipy.org/doc/numpy/reference/generated/numpy.linalg.inv.html<br>\n",
    "`np.matmul(a, b)` : returns the matrix multiplication of `a` multiplied by `b`. Alias `a @ b`. https://docs.scipy.org/doc/numpy/reference/generated/numpy.matmul.html<br>\n",
    "`np.sum(a)` : returns the sum of all the elements of array `a`. You can specify a keyword argument `axis` to compute the sum only along a specific dimension (the result will have the same shape as `a`, but without the specified dimension) https://docs.scipy.org/doc/numpy/reference/generated/numpy.sum.html<br>\n",
    "`np.mean(a)` : returns the mean value of all the elements of array `a`. You can specify a keyword argument `axis` to compute the mean only along a specific dimension (the result will have the same shape as `a`, but without the specified dimension) https://docs.scipy.org/doc/numpy/reference/generated/numpy.mean.html<br>\n",
    "`np.cov(m)` : build the covariance matrix of array `a` where each row represents a variable and each column represents an observation.  https://docs.scipy.org/doc/numpy/reference/generated/numpy.cov.html <br>\n",
    "\n"
   ]
  },
  {
   "cell_type": "markdown",
   "metadata": {},
   "source": [
    "## EXERCISE 1 - SETUP CODE"
   ]
  },
  {
   "cell_type": "markdown",
   "metadata": {},
   "source": [
    "The following cell installs required packages into the virtual machine that will run your code"
   ]
  },
  {
   "cell_type": "code",
   "execution_count": 1,
   "metadata": {},
   "outputs": [
    {
     "name": "stdout",
     "output_type": "stream",
     "text": [
      "Defaulting to user installation because normal site-packages is not writeable\n",
      "Requirement already satisfied: scikit-video in /home/santos/.local/lib/python3.8/site-packages (1.1.11)\n",
      "Requirement already satisfied: numpy in /home/santos/.local/lib/python3.8/site-packages (from scikit-video) (1.18.2)\n",
      "Requirement already satisfied: scipy in /home/santos/.local/lib/python3.8/site-packages (from scikit-video) (1.4.1)\n",
      "Requirement already satisfied: pillow in /home/santos/.local/lib/python3.8/site-packages (from scikit-video) (7.2.0)\n",
      "Defaulting to user installation because normal site-packages is not writeable\n",
      "Requirement already satisfied: scikit-image in /home/santos/.local/lib/python3.8/site-packages (0.17.2)\n",
      "Requirement already satisfied: scipy>=1.0.1 in /home/santos/.local/lib/python3.8/site-packages (from scikit-image) (1.4.1)\n",
      "Requirement already satisfied: numpy>=1.15.1 in /home/santos/.local/lib/python3.8/site-packages (from scikit-image) (1.18.2)\n",
      "Requirement already satisfied: imageio>=2.3.0 in /home/santos/.local/lib/python3.8/site-packages (from scikit-image) (2.9.0)\n",
      "Requirement already satisfied: matplotlib!=3.0.0,>=2.0.0 in /home/santos/.local/lib/python3.8/site-packages (from scikit-image) (3.3.0)\n",
      "Requirement already satisfied: PyWavelets>=1.1.1 in /home/santos/.local/lib/python3.8/site-packages (from scikit-image) (1.1.1)\n",
      "Requirement already satisfied: pillow!=7.1.0,!=7.1.1,>=4.3.0 in /home/santos/.local/lib/python3.8/site-packages (from scikit-image) (7.2.0)\n",
      "Requirement already satisfied: tifffile>=2019.7.26 in /home/santos/.local/lib/python3.8/site-packages (from scikit-image) (2020.9.3)\n",
      "Requirement already satisfied: networkx>=2.0 in /home/santos/.local/lib/python3.8/site-packages (from scikit-image) (2.5)\n",
      "Requirement already satisfied: python-dateutil>=2.1 in /home/santos/.local/lib/python3.8/site-packages (from matplotlib!=3.0.0,>=2.0.0->scikit-image) (2.8.1)\n",
      "Requirement already satisfied: kiwisolver>=1.0.1 in /home/santos/.local/lib/python3.8/site-packages (from matplotlib!=3.0.0,>=2.0.0->scikit-image) (1.2.0)\n",
      "Requirement already satisfied: pyparsing!=2.0.4,!=2.1.2,!=2.1.6,>=2.0.3 in /usr/lib/python3.8/site-packages (from matplotlib!=3.0.0,>=2.0.0->scikit-image) (2.4.7)\n",
      "Requirement already satisfied: cycler>=0.10 in /home/santos/.local/lib/python3.8/site-packages (from matplotlib!=3.0.0,>=2.0.0->scikit-image) (0.10.0)\n",
      "Requirement already satisfied: decorator>=4.3.0 in /home/santos/.local/lib/python3.8/site-packages (from networkx>=2.0->scikit-image) (4.4.2)\n",
      "Requirement already satisfied: six>=1.5 in /usr/lib/python3.8/site-packages (from python-dateutil>=2.1->matplotlib!=3.0.0,>=2.0.0->scikit-image) (1.15.0)\n",
      "Defaulting to user installation because normal site-packages is not writeable\n",
      "Requirement already satisfied: ipywidgets in /usr/lib/python3.8/site-packages (7.5.1)\n"
     ]
    }
   ],
   "source": [
    "!pip install scikit-video\n",
    "!pip install scikit-image\n",
    "!pip install ipywidgets"
   ]
  },
  {
   "cell_type": "markdown",
   "metadata": {},
   "source": [
    "Import packages to read videos, make interactive widgets and plot images."
   ]
  },
  {
   "cell_type": "code",
   "execution_count": 330,
   "metadata": {},
   "outputs": [],
   "source": [
    "import skvideo.io\n",
    "import skimage.io\n",
    "import matplotlib\n",
    "import imageio\n",
    "from tqdm import tqdm\n",
    "from ipywidgets import interactive, widgets\n",
    "from IPython.display import display, Video\n",
    "from matplotlib.pyplot import imshow\n",
    "import numpy as np"
   ]
  },
  {
   "cell_type": "markdown",
   "metadata": {},
   "source": [
    "Reading the test video bluescreen.avi in `bluescreen` and the upper region mask into `umask`."
   ]
  },
  {
   "cell_type": "code",
   "execution_count": 3,
   "metadata": {
    "scrolled": true
   },
   "outputs": [
    {
     "name": "stdout",
     "output_type": "stream",
     "text": [
      "Video information:\n",
      "Number of frames:  43\n",
      "Frame width (pixels):  516\n",
      "Frame height (pixels):  389\n",
      "Video array shape:  (43, 389, 516, 3)\n"
     ]
    }
   ],
   "source": [
    "bluescreen = np.array(skvideo.io.vread(\"bluescreen.avi\"), dtype=np.int16)\n",
    "numframes, height, width, channels = np.shape(bluescreen)\n",
    "print(\"Video information:\")\n",
    "print(\"Number of frames: \", numframes)\n",
    "print(\"Frame width (pixels): \", width)\n",
    "print(\"Frame height (pixels): \", height)\n",
    "print(\"Video array shape: \", np.shape(bluescreen))\n",
    "\n",
    "umask = skimage.io.imread(\"mask.bmp\")//255"
   ]
  },
  {
   "cell_type": "markdown",
   "metadata": {},
   "source": [
    "Here is a \\*wonderful\\* user interface we have prepared for you to select any number of points on the first frame of the video.\n",
    "\n",
    "Use the x slider to move vertically and use the y slider to move horizontally (x and y reflect indexing in the image array).<br>\n",
    "Press \"Update image\" when you want to see where you moved your cursor within the image, and press \"Remember this point\" when you want to store the current selected point into the python list `selected_image_locations`.\n",
    "\n",
    "\n",
    "`selected_image_locations` will contain all selected locations stored as couples of integers, taking the format: [(x1, y1), (x2, y2), (x3, y3) ...]\n",
    "\n",
    "The image will show a red cross where there is the current temporary selection, and green crosses on all stored locations.\n",
    "\n",
    "If you are not familiar with numpy arrays, we suggest to read through the code of `display_selections` and `draw_cross` as further examples."
   ]
  },
  {
   "cell_type": "code",
   "execution_count": 6,
   "metadata": {},
   "outputs": [
    {
     "data": {
      "application/vnd.jupyter.widget-view+json": {
       "model_id": "f452dbc21d5948858be66affe5c21ea0",
       "version_major": 2,
       "version_minor": 0
      },
      "text/plain": [
       "Button(description='Remember this point', style=ButtonStyle())"
      ]
     },
     "metadata": {},
     "output_type": "display_data"
    },
    {
     "data": {
      "application/vnd.jupyter.widget-view+json": {
       "model_id": "9f15ace1a1da45e998890c5f17c7c2a5",
       "version_major": 2,
       "version_minor": 0
      },
      "text/plain": [
       "interactive(children=(IntSlider(value=194, description='x', max=388), IntSlider(value=257, description='y', ma…"
      ]
     },
     "metadata": {},
     "output_type": "display_data"
    }
   ],
   "source": [
    "selected_image_locations = list()\n",
    "\n",
    "def draw_cross(im, cx, cy, l, w, col):\n",
    "    dimx, dimy = np.shape(im)[:2]\n",
    "    im[max(0, cx-l):min(cx+l, dimx-1), max(0, cy-w):min(dimy-1, cy+w)] = col\n",
    "    im[max(0, cx-w):min(dimx-1, cx+w), max(0, cy-l):min(dimy-1, cy+l)] = col\n",
    "\n",
    "\n",
    "def display_selections(x, y):\n",
    "    tmp_im = np.array(bluescreen[0]*umask)\n",
    "    for px, py in selected_image_locations:\n",
    "        draw_cross(tmp_im, px, py, 1, 5, (0, 255, 0))\n",
    "    draw_cross(tmp_im, x, y, 1, 5, (255, 0, 0))\n",
    "    imshow(tmp_im)\n",
    "    \n",
    "interactive_plot = interactive(display_selections,{'manual': True, 'manual_name': 'Update image'}, x=(0, height-1, 1), y=(0, width-1, 1))\n",
    "button = widgets.Button(description=\"Remember this point\")\n",
    "xslider = interactive_plot.children[0]\n",
    "yslider = interactive_plot.children[1]\n",
    "button.on_click(lambda b: selected_image_locations.append((xslider.value, yslider.value)))\n",
    "display(button)\n",
    "display(interactive_plot)"
   ]
  },
  {
   "cell_type": "markdown",
   "metadata": {},
   "source": [
    "## EXERCISE 1.A - PUT SOLUTION HERE"
   ]
  },
  {
   "cell_type": "code",
   "execution_count": 91,
   "metadata": {},
   "outputs": [
    {
     "data": {
      "text/plain": [
       "<matplotlib.image.AxesImage at 0x7f164b8d7310>"
      ]
     },
     "execution_count": 91,
     "metadata": {},
     "output_type": "execute_result"
    },
    {
     "data": {
      "image/png": "[encoded data removed]",
      "text/plain": [
       "<Figure size 432x288 with 1 Axes>"
      ]
     },
     "metadata": {
      "needs_background": "light"
     },
     "output_type": "display_data"
    }
   ],
   "source": [
    "# A few basic code hints this time, just in case it is the very first time you code in Python :)\n",
    "# of course this is not a template for the 'best' solution, you are encouraged to change everything you want!\n",
    "\n",
    "# First we take the x and y pixel coordinates of the first selection made at the previous step. \n",
    "# Notice that selected_image_location[0] is a tuple of 2 elements, which we can assign to two scalar variables at once. If the dimensions don't match (like assigning a couple to three variables), Python will throw an error\n",
    "selx, sely = selected_image_locations[0]\n",
    "\n",
    "# get the [r0, g0, b0] values that model our background in this simple single-pixel model\n",
    "ref_rgb = bluescreen[0, selected_image_locations[0][0], selected_image_locations[0][1]]\n",
    "\n",
    "# set a threshold, you can tune it experimentally after seeing the results\n",
    "THRESHOLD = 150\n",
    "\n",
    "# initialize the background mask, it will need to be a 0-1 array of the same sizes of our video frames, so that each 0-1 value corresponds to a pixel being assigned to class background (0) or foreground (1)\n",
    "bgmask = np.array(bluescreen)[0]\n",
    "\n",
    "# now classify each pixel according to the single-pixel model\n",
    "for h in range(height):\n",
    "    for w in range(width):\n",
    "        if np.linalg.norm(np.subtract(bluescreen[0, h, w], ref_rgb)) > THRESHOLD:\n",
    "            bgmask[h, w] = 1\n",
    "        else:\n",
    "            bgmask[h, w] = 0\n",
    "\n",
    "# alternatively you can also do it with one line of code using conditional indexing:\n",
    "#bgmask[h, w] = ...\n",
    "\n",
    "# and visualize your results on the first frame. Do they look reasonable?\n",
    "imshow(bluescreen[0]*bgmask*umask)"
   ]
  },
  {
   "cell_type": "markdown",
   "metadata": {},
   "source": [
    "## EXERCISE 1.B - PUT SOLUTION HERE"
   ]
  },
  {
   "cell_type": "code",
   "execution_count": 122,
   "metadata": {},
   "outputs": [
    {
     "data": {
      "text/plain": [
       "<matplotlib.image.AxesImage at 0x7f16660494f0>"
      ]
     },
     "execution_count": 122,
     "metadata": {},
     "output_type": "execute_result"
    },
    {
     "data": {
      "image/png": "[encoded data removed]",
      "text/plain": [
       "<Figure size 432x288 with 1 Axes>"
      ]
     },
     "metadata": {
      "needs_background": "light"
     },
     "output_type": "display_data"
    }
   ],
   "source": [
    "# Use this time the Mahalanobis distance for the thresholding, with a global mean and covariance of the background\n",
    "def mdistance(x, u , S):\n",
    "    return np.sqrt((x-u) @ np.linalg.pinv(S) @ np.transpose(x-u))\n",
    "    \n",
    "def covmatrix1frame(frame, points):\n",
    "    n = len(points)\n",
    "    sample_mean = np.mean([frame[x, y] for (x, y) in points], 0)\n",
    "    return (1/(n-1)) * np.sum([np.outer(frame[x, y] - sample_mean, frame[x, y] - sample_mean) for (x, y) in points], 0)\n",
    "\n",
    "THRESHOLD = 50\n",
    "covmatrix = covmatrix1frame(bluescreen[0], selected_image_locations)\n",
    "\n",
    "# now classify each pixel according to the single-pixel model\n",
    "for h in range(height):\n",
    "    for w in range(width):\n",
    "        if mdistance(ref_rgb, bluescreen[0, h, w], covmatrix) > THRESHOLD:\n",
    "            bgmask[h, w] = 1\n",
    "        else:\n",
    "            bgmask[h, w] = 0\n",
    "\n",
    "# alternatively you can also do it with one line of code using conditional indexing:\n",
    "#bgmask[h, w] = ...\n",
    "\n",
    "# and visualize your results on the first frame. Do they look reasonable?\n",
    "imshow(bluescreen[0]*bgmask*umask)"
   ]
  },
  {
   "cell_type": "markdown",
   "metadata": {},
   "source": [
    "## EXERCISE 2 - SETUP CODE\n",
    "(installs and imports from the Exercise 1 should be run anyway)"
   ]
  },
  {
   "cell_type": "markdown",
   "metadata": {},
   "source": [
    "Reading the test video jugglingTest.avi in `testvid` and the background reference video jugglingBG.avi into `bgvid`."
   ]
  },
  {
   "cell_type": "code",
   "execution_count": 123,
   "metadata": {},
   "outputs": [
    {
     "name": "stdout",
     "output_type": "stream",
     "text": [
      "jugglingBG.avi video information:\n",
      "Number of frames:  20\n",
      "Frame width (pixels):  672\n",
      "Frame height (pixels):  378\n",
      "Video array shape:  (20, 378, 672, 3)\n",
      "\n",
      "jugglingTest.avi video information:\n",
      "Number of frames:  100\n",
      "Frame width (pixels):  672\n",
      "Frame height (pixels):  378\n",
      "Video array shape:  (100, 378, 672, 3)\n"
     ]
    }
   ],
   "source": [
    "bgvid = np.array(skvideo.io.vread(\"jugglingBG.avi\"), dtype=np.int16)\n",
    "testvid = np.array(skvideo.io.vread(\"jugglingTest.avi\"), dtype=np.int16)\n",
    "\n",
    "bgnumframes, bgheight, bgwidth, bgchannels = np.shape(bgvid)\n",
    "print(\"jugglingBG.avi video information:\")\n",
    "print(\"Number of frames: \", bgnumframes)\n",
    "print(\"Frame width (pixels): \", bgwidth)\n",
    "print(\"Frame height (pixels): \", bgheight)\n",
    "print(\"Video array shape: \", np.shape(bgvid))\n",
    "\n",
    "print()\n",
    "testnumframes, testheight, testwidth, testchannels = np.shape(testvid)\n",
    "print(\"jugglingTest.avi video information:\")\n",
    "print(\"Number of frames: \", testnumframes)\n",
    "print(\"Frame width (pixels): \", testwidth)\n",
    "print(\"Frame height (pixels): \", testheight)\n",
    "print(\"Video array shape: \", np.shape(testvid))"
   ]
  },
  {
   "cell_type": "markdown",
   "metadata": {},
   "source": [
    "## EXERCISE 2 - PUT SOLUTION HERE"
   ]
  },
  {
   "cell_type": "code",
   "execution_count": 320,
   "metadata": {},
   "outputs": [
    {
     "name": "stderr",
     "output_type": "stream",
     "text": [
      "Computing covariance matrices: 100%|██████████| 378/378 [00:35<00:00, 10.58it/s]\n"
     ]
    }
   ],
   "source": [
    "# Use again the Mahalanobis distance for the thresholding, but with a per-pixel mean and covariance\n",
    "\n",
    "def samplemean(video):\n",
    "    mat_mean = np.mean(video, 0)\n",
    "    return mat_mean\n",
    "\n",
    "def covmatrixpixelwise(video, mean, x, y):\n",
    "    n = len(video)\n",
    "    return (1/(n-1)) * np.sum([np.outer(frame[x, y] - mean[x, y], frame[x, y] - mean[x, y]) for frame in video], 0)\n",
    "\n",
    "def computecovmatrices(video, mean):\n",
    "    covmatarray = np.zeros((video.shape[1], video.shape[2]), (float, (3, 3)))\n",
    "    for h in tqdm(range(video.shape[1]), desc=\"Computing covariance matrices\"):\n",
    "        for w in range(video.shape[2]):\n",
    "            covmatarray[h, w] = covmatrixpixelwise(video, mean, h, w)\n",
    "    return covmatarray\n",
    "\n",
    "computed_mean = samplemean(bgvid)\n",
    "covmat = computecovmatrices(bgvid, computed_mean)"
   ]
  },
  {
   "cell_type": "code",
   "execution_count": 348,
   "metadata": {},
   "outputs": [
    {
     "name": "stderr",
     "output_type": "stream",
     "text": [
      "  1%|          | 1/100 [00:16<26:48, 16.24s/it]\n"
     ]
    },
    {
     "ename": "KeyboardInterrupt",
     "evalue": "",
     "output_type": "error",
     "traceback": [
      "\u001b[0;31m------------------------------------------------------------------\u001b[0m",
      "\u001b[0;31mKeyboardInterrupt\u001b[0m                Traceback (most recent call last)",
      "\u001b[0;32m<ipython-input-348-4533e31d0867>\u001b[0m in \u001b[0;36m<module>\u001b[0;34m\u001b[0m\n\u001b[1;32m      8\u001b[0m     \u001b[0;32mfor\u001b[0m \u001b[0mh\u001b[0m \u001b[0;32min\u001b[0m \u001b[0mrange\u001b[0m\u001b[0;34m(\u001b[0m\u001b[0mheight\u001b[0m\u001b[0;34m)\u001b[0m\u001b[0;34m:\u001b[0m\u001b[0;34m\u001b[0m\u001b[0;34m\u001b[0m\u001b[0m\n\u001b[1;32m      9\u001b[0m         \u001b[0;32mfor\u001b[0m \u001b[0mw\u001b[0m \u001b[0;32min\u001b[0m \u001b[0mrange\u001b[0m\u001b[0;34m(\u001b[0m\u001b[0mwidth\u001b[0m\u001b[0;34m)\u001b[0m\u001b[0;34m:\u001b[0m\u001b[0;34m\u001b[0m\u001b[0;34m\u001b[0m\u001b[0m\n\u001b[0;32m---> 10\u001b[0;31m             \u001b[0;32mif\u001b[0m \u001b[0mmdistance\u001b[0m\u001b[0;34m(\u001b[0m\u001b[0mcomputed_mean\u001b[0m\u001b[0;34m[\u001b[0m\u001b[0mh\u001b[0m\u001b[0;34m,\u001b[0m \u001b[0mw\u001b[0m\u001b[0;34m]\u001b[0m\u001b[0;34m,\u001b[0m \u001b[0mtestvid\u001b[0m\u001b[0;34m[\u001b[0m\u001b[0mf\u001b[0m\u001b[0;34m,\u001b[0m \u001b[0mh\u001b[0m\u001b[0;34m,\u001b[0m \u001b[0mw\u001b[0m\u001b[0;34m]\u001b[0m\u001b[0;34m,\u001b[0m \u001b[0mcovmat\u001b[0m\u001b[0;34m[\u001b[0m\u001b[0mh\u001b[0m\u001b[0;34m,\u001b[0m \u001b[0mw\u001b[0m\u001b[0;34m]\u001b[0m\u001b[0;34m)\u001b[0m \u001b[0;34m>\u001b[0m \u001b[0mTHRESHOLD\u001b[0m\u001b[0;34m:\u001b[0m\u001b[0;34m\u001b[0m\u001b[0;34m\u001b[0m\u001b[0m\n\u001b[0m\u001b[1;32m     11\u001b[0m                 \u001b[0mbgmask\u001b[0m\u001b[0;34m[\u001b[0m\u001b[0mf\u001b[0m\u001b[0;34m,\u001b[0m \u001b[0mh\u001b[0m\u001b[0;34m,\u001b[0m \u001b[0mw\u001b[0m\u001b[0;34m]\u001b[0m \u001b[0;34m=\u001b[0m \u001b[0;36m1\u001b[0m\u001b[0;34m\u001b[0m\u001b[0;34m\u001b[0m\u001b[0m\n\u001b[1;32m     12\u001b[0m             \u001b[0;32melse\u001b[0m\u001b[0;34m:\u001b[0m \u001b[0mbgmask\u001b[0m\u001b[0;34m[\u001b[0m\u001b[0mf\u001b[0m\u001b[0;34m,\u001b[0m \u001b[0mh\u001b[0m\u001b[0;34m,\u001b[0m \u001b[0mw\u001b[0m\u001b[0;34m]\u001b[0m \u001b[0;34m=\u001b[0m \u001b[0;36m0\u001b[0m\u001b[0;34m\u001b[0m\u001b[0;34m\u001b[0m\u001b[0m\n",
      "\u001b[0;32m<ipython-input-122-0aeca5ef3b4b>\u001b[0m in \u001b[0;36mmdistance\u001b[0;34m(x, u, S)\u001b[0m\n\u001b[1;32m      1\u001b[0m \u001b[0;31m# Use this time the Mahalanobis distance for the thresholding, with a global mean and covariance of the background\u001b[0m\u001b[0;34m\u001b[0m\u001b[0;34m\u001b[0m\u001b[0;34m\u001b[0m\u001b[0m\n\u001b[1;32m      2\u001b[0m \u001b[0;32mdef\u001b[0m \u001b[0mmdistance\u001b[0m\u001b[0;34m(\u001b[0m\u001b[0mx\u001b[0m\u001b[0;34m,\u001b[0m \u001b[0mu\u001b[0m \u001b[0;34m,\u001b[0m \u001b[0mS\u001b[0m\u001b[0;34m)\u001b[0m\u001b[0;34m:\u001b[0m\u001b[0;34m\u001b[0m\u001b[0;34m\u001b[0m\u001b[0m\n\u001b[0;32m----> 3\u001b[0;31m     \u001b[0;32mreturn\u001b[0m \u001b[0mnp\u001b[0m\u001b[0;34m.\u001b[0m\u001b[0msqrt\u001b[0m\u001b[0;34m(\u001b[0m\u001b[0;34m(\u001b[0m\u001b[0mx\u001b[0m\u001b[0;34m-\u001b[0m\u001b[0mu\u001b[0m\u001b[0;34m)\u001b[0m \u001b[0;34m@\u001b[0m \u001b[0mnp\u001b[0m\u001b[0;34m.\u001b[0m\u001b[0mlinalg\u001b[0m\u001b[0;34m.\u001b[0m\u001b[0mpinv\u001b[0m\u001b[0;34m(\u001b[0m\u001b[0mS\u001b[0m\u001b[0;34m)\u001b[0m \u001b[0;34m@\u001b[0m \u001b[0mnp\u001b[0m\u001b[0;34m.\u001b[0m\u001b[0mtranspose\u001b[0m\u001b[0;34m(\u001b[0m\u001b[0mx\u001b[0m\u001b[0;34m-\u001b[0m\u001b[0mu\u001b[0m\u001b[0;34m)\u001b[0m\u001b[0;34m)\u001b[0m\u001b[0;34m\u001b[0m\u001b[0;34m\u001b[0m\u001b[0m\n\u001b[0m\u001b[1;32m      4\u001b[0m \u001b[0;34m\u001b[0m\u001b[0m\n\u001b[1;32m      5\u001b[0m \u001b[0;32mdef\u001b[0m \u001b[0mcovmatrix1frame\u001b[0m\u001b[0;34m(\u001b[0m\u001b[0mframe\u001b[0m\u001b[0;34m,\u001b[0m \u001b[0mpoints\u001b[0m\u001b[0;34m)\u001b[0m\u001b[0;34m:\u001b[0m\u001b[0;34m\u001b[0m\u001b[0;34m\u001b[0m\u001b[0m\n",
      "\u001b[0;32m<__array_function__ internals>\u001b[0m in \u001b[0;36mpinv\u001b[0;34m(*args, **kwargs)\u001b[0m\n",
      "\u001b[0;32m~/.local/lib/python3.8/site-packages/numpy/linalg/linalg.py\u001b[0m in \u001b[0;36mpinv\u001b[0;34m(a, rcond, hermitian)\u001b[0m\n\u001b[1;32m   1965\u001b[0m     \u001b[0mlarge\u001b[0m \u001b[0;34m=\u001b[0m \u001b[0ms\u001b[0m \u001b[0;34m>\u001b[0m \u001b[0mcutoff\u001b[0m\u001b[0;34m\u001b[0m\u001b[0;34m\u001b[0m\u001b[0m\n\u001b[1;32m   1966\u001b[0m     \u001b[0ms\u001b[0m \u001b[0;34m=\u001b[0m \u001b[0mdivide\u001b[0m\u001b[0;34m(\u001b[0m\u001b[0;36m1\u001b[0m\u001b[0;34m,\u001b[0m \u001b[0ms\u001b[0m\u001b[0;34m,\u001b[0m \u001b[0mwhere\u001b[0m\u001b[0;34m=\u001b[0m\u001b[0mlarge\u001b[0m\u001b[0;34m,\u001b[0m \u001b[0mout\u001b[0m\u001b[0;34m=\u001b[0m\u001b[0ms\u001b[0m\u001b[0;34m)\u001b[0m\u001b[0;34m\u001b[0m\u001b[0;34m\u001b[0m\u001b[0m\n\u001b[0;32m-> 1967\u001b[0;31m     \u001b[0ms\u001b[0m\u001b[0;34m[\u001b[0m\u001b[0;34m~\u001b[0m\u001b[0mlarge\u001b[0m\u001b[0;34m]\u001b[0m \u001b[0;34m=\u001b[0m \u001b[0;36m0\u001b[0m\u001b[0;34m\u001b[0m\u001b[0;34m\u001b[0m\u001b[0m\n\u001b[0m\u001b[1;32m   1968\u001b[0m \u001b[0;34m\u001b[0m\u001b[0m\n\u001b[1;32m   1969\u001b[0m     \u001b[0mres\u001b[0m \u001b[0;34m=\u001b[0m \u001b[0mmatmul\u001b[0m\u001b[0;34m(\u001b[0m\u001b[0mtranspose\u001b[0m\u001b[0;34m(\u001b[0m\u001b[0mvt\u001b[0m\u001b[0;34m)\u001b[0m\u001b[0;34m,\u001b[0m \u001b[0mmultiply\u001b[0m\u001b[0;34m(\u001b[0m\u001b[0ms\u001b[0m\u001b[0;34m[\u001b[0m\u001b[0;34m...\u001b[0m\u001b[0;34m,\u001b[0m \u001b[0mnewaxis\u001b[0m\u001b[0;34m]\u001b[0m\u001b[0;34m,\u001b[0m \u001b[0mtranspose\u001b[0m\u001b[0;34m(\u001b[0m\u001b[0mu\u001b[0m\u001b[0;34m)\u001b[0m\u001b[0;34m)\u001b[0m\u001b[0;34m)\u001b[0m\u001b[0;34m\u001b[0m\u001b[0;34m\u001b[0m\u001b[0m\n",
      "\u001b[0;31mKeyboardInterrupt\u001b[0m: "
     ]
    }
   ],
   "source": [
    "bgmask = np.array(testvid)\n",
    "frames, height, width, _ = testvid.shape\n",
    "\n",
    "THRESHOLD = 50\n",
    "\n",
    "# now classify each pixel according to the single-pixel model\n",
    "for f in tqdm(range(frames)):\n",
    "    for h in range(height):\n",
    "        for w in range(width):\n",
    "            if mdistance(computed_mean[h, w], testvid[f, h, w], covmat[h, w]) > THRESHOLD:\n",
    "                bgmask[f, h, w] = 1\n",
    "            else: bgmask[f, h, w] = 0\n",
    "\n",
    "newvid = testvid*bgmask"
   ]
  },
  {
   "cell_type": "code",
   "execution_count": 349,
   "metadata": {},
   "outputs": [
    {
     "name": "stderr",
     "output_type": "stream",
     "text": [
      "IMAGEIO FFMPEG_WRITER WARNING: input image is not divisible by macro_block_size=16, resizing from (672, 378) to (672, 384) to ensure video compatibility with most codecs and players. To prevent resizing, make your input image divisible by the macro_block_size or set the macro_block_size to 1 (risking incompatibility).\n"
     ]
    },
    {
     "data": {
      "text/html": [
       "<video src=\"newvid.mp4\" controls  >\n",
       "      Your browser does not support the <code>video</code> element.\n",
       "    </video>"
      ],
      "text/plain": [
       "<IPython.core.display.Video object>"
      ]
     },
     "execution_count": 349,
     "metadata": {},
     "output_type": "execute_result"
    }
   ],
   "source": [
    "imageio.mimwrite('newvid.mp4', newvid.astype('uint8'), fps=25)\n",
    "Video('newvid.mp4')"
   ]
  },
  {
   "cell_type": "markdown",
   "metadata": {},
   "source": [
    "## Credits\n",
    "\n",
    "Luca Cavalli (lcavalli@ethz.ch)"
   ]
  }
 ],
 "metadata": {
  "kernelspec": {
   "display_name": "Python 3",
   "language": "python",
   "name": "python3"
  },
  "language_info": {
   "codemirror_mode": {
    "name": "ipython",
    "version": 3
   },
   "file_extension": ".py",
   "mimetype": "text/x-python",
   "name": "python",
   "nbconvert_exporter": "python",
   "pygments_lexer": "ipython3",
   "version": "3.8.5"
  }
 },
 "nbformat": 4,
 "nbformat_minor": 4
}
